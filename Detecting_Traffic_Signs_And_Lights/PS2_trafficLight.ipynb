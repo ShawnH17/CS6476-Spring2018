{
 "cells": [
  {
   "cell_type": "code",
   "execution_count": 1,
   "metadata": {
    "collapsed": true
   },
   "outputs": [],
   "source": [
    "import numpy as np\n",
    "import argparse\n",
    "import cv2\n",
    "import matplotlib.pyplot as plt\n",
    "import matplotlib.image as mpimg"
   ]
  },
  {
   "cell_type": "code",
   "execution_count": 11,
   "metadata": {},
   "outputs": [],
   "source": [
    "image = cv2.imread('/home/shawn/OMSCS6476/ps02-master/input_images/test_images/scene_some_signs.png')\n",
    "output = image.copy()\n",
    "image1 = image.copy()\n",
    "image2 = image.copy()\n",
    "gray = cv2.cvtColor(image, cv2.COLOR_BGR2GRAY)\n",
    "\n",
    "b,g,r = cv2.split(image)       # get b,g,r\n",
    "rgb_img = cv2.merge([r,g,b])     # switch it to rgb"
   ]
  },
  {
   "cell_type": "code",
   "execution_count": 12,
   "metadata": {
    "collapsed": true
   },
   "outputs": [],
   "source": [
    "kernel = np.ones((5,5), np.float32)/25\n",
    "gray = cv2.filter2D(gray,-1,kernel)\n",
    "#image1 = cv2.filter2D(image1, -1, kernel)\n",
    "#image2 = "
   ]
  },
  {
   "cell_type": "code",
   "execution_count": 13,
   "metadata": {
    "scrolled": true
   },
   "outputs": [
    {
     "data": {
      "image/png": "[encoded data removed]",
      "text/plain": [
       "<matplotlib.figure.Figure at 0x7fc294dc1250>"
      ]
     },
     "metadata": {},
     "output_type": "display_data"
    }
   ],
   "source": [
    "#define the state of the traffic light\n",
    "#hsv_img = cv2.cvtColor(image, cv2.COLOR_BGR2RGB)\n",
    "hsv_img = cv2.cvtColor(image1, cv2.COLOR_BGR2HSV)\n",
    "#lower mask\n",
    "lower_red_on = np.array([0,50,150])\n",
    "upper_red_on = np.array([10,255,255])\n",
    "mask_red_on_0 = cv2.inRange(hsv_img, lower_red_on, upper_red_on)\n",
    "#upper mask\n",
    "lower_red_on = np.array([170,50,150])\n",
    "upper_red_on = np.array([180,255,255])\n",
    "mask_red_on_1 = cv2.inRange(hsv_img, lower_red_on, upper_red_on)\n",
    "mask_red_on = mask_red_on_1 + mask_red_on_0\n",
    "mask_red_on = cv2.bitwise_and(image1,image1, mask= mask_red_on)\n",
    "mask_red_on = cv2.cvtColor(mask_red_on, cv2.COLOR_BGR2GRAY)\n",
    "# define range of yellow color in HSV\n",
    "lower_yellow_on = np.array([20,50,150])\n",
    "upper_yellow_on = np.array([40,255,255])\n",
    "mask_yellow_on = cv2.inRange(hsv_img, lower_yellow_on, upper_yellow_on)\n",
    "mask_yellow_on = cv2.bitwise_and(image1,image1, mask= mask_yellow_on)\n",
    "mask_yellow_on = cv2.cvtColor(mask_yellow_on, cv2.COLOR_BGR2GRAY)\n",
    "\n",
    "# define range of green color in HSV\n",
    "lower_green_on = np.array([50,50,150])\n",
    "upper_green_on = np.array([70,255,255])\n",
    "mask_green_on = cv2.inRange(hsv_img, lower_green_on, upper_green_on)\n",
    "mask_green_on = cv2.bitwise_and(image1,image1, mask= mask_green_on)\n",
    "mask_green_on = cv2.cvtColor(mask_green_on, cv2.COLOR_BGR2GRAY)\n",
    "\n",
    "#cv2.imwrite('output2.jpg', mask_green)\n",
    "plt.imshow(mask_yellow_on)\n",
    "plt.show()"
   ]
  },
  {
   "cell_type": "code",
   "execution_count": 14,
   "metadata": {},
   "outputs": [
    {
     "data": {
      "image/png": "[encoded data removed]",
      "text/plain": [
       "<matplotlib.figure.Figure at 0x7fc294d6a150>"
      ]
     },
     "metadata": {},
     "output_type": "display_data"
    }
   ],
   "source": [
    "#Traffic light or not\n",
    "hsv_img = cv2.cvtColor(image2, cv2.COLOR_BGR2HSV)\n",
    "#lower mask\n",
    "lower_red_all = np.array([0,50,50])\n",
    "upper_red_all = np.array([10,255,255])\n",
    "mask_red_all_0 = cv2.inRange(hsv_img, lower_red_all, upper_red_all)\n",
    "#upper mask\n",
    "lower_red_all = np.array([170,50,50])\n",
    "upper_red_all = np.array([180,255,255])\n",
    "mask_red_all_1 = cv2.inRange(hsv_img, lower_red_all, upper_red_all)\n",
    "mask_red_all = mask_red_all_1 + mask_red_all_0\n",
    "mask_red_all = cv2.bitwise_and(image1,image1, mask= mask_red_all)\n",
    "mask_red_all = cv2.cvtColor(mask_red_all, cv2.COLOR_BGR2GRAY)\n",
    "# define range of yellow color in HSV\n",
    "lower_yellow_all = np.array([20,50,50])\n",
    "upper_yellow_all = np.array([40,255,255])\n",
    "mask_yellow_all = cv2.inRange(hsv_img, lower_yellow_all, upper_yellow_all)\n",
    "mask_yellow_all = cv2.bitwise_and(image1,image1, mask= mask_yellow_all)\n",
    "mask_yellow_all = cv2.cvtColor(mask_yellow_all, cv2.COLOR_BGR2GRAY)\n",
    "# define range of green color in HSV\n",
    "lower_green_all = np.array([50,50,50])\n",
    "upper_green_all = np.array([70,255,255])\n",
    "mask_green_all = cv2.inRange(hsv_img, lower_green_all, upper_green_all)\n",
    "mask_green_all = cv2.bitwise_and(image1,image1, mask= mask_green_all)\n",
    "mask_green_all = cv2.cvtColor(mask_green_all, cv2.COLOR_BGR2GRAY)\n",
    "#cv2.imwrite('output2.jpg', mask_green)\n",
    "plt.imshow(mask_red_all)\n",
    "plt.show()"
   ]
  },
  {
   "cell_type": "code",
   "execution_count": 15,
   "metadata": {
    "collapsed": true
   },
   "outputs": [],
   "source": [
    ">>> #green = np.uint8([[[0,255,0 ]]])\n",
    ">>> #hsv_green = cv2.cvtColor(green,cv2.COLOR_BGR2HSV)\n",
    ">>> #print hsv_green"
   ]
  },
  {
   "cell_type": "code",
   "execution_count": 16,
   "metadata": {
    "collapsed": true
   },
   "outputs": [],
   "source": [
    "#target color to HSV\n",
    "#yellow_color=np.uint8([[[255,255,0]]])\n",
    "#yellow_color_hsv = cv2.cvtColor(yellow_color, cv2.COLOR_BGR2HSV)\n",
    "#plt.imshow(yellow_color_hsv)\n",
    "#plt.show()"
   ]
  },
  {
   "cell_type": "code",
   "execution_count": 17,
   "metadata": {},
   "outputs": [
    {
     "name": "stdout",
     "output_type": "stream",
     "text": [
      "[[[ 555.5         147.5           8.86002254]\n",
      "  [ 635.5         435.5          28.15137672]]]\n",
      "None\n",
      "None\n",
      "[[[ 555.5         147.5           8.86002254]\n",
      "  [ 635.5         435.5          28.15137672]]]\n",
      "None\n",
      "None\n"
     ]
    }
   ],
   "source": [
    "# find circles\n",
    "circles_red_on = cv2.HoughCircles(mask_red_on, cv2.cv.CV_HOUGH_GRADIENT, 1, 50, param1=30, param2=10,minRadius=3, maxRadius=30)\n",
    "print(circles_red_on)\n",
    "circles_yellow_on = cv2.HoughCircles(mask_yellow_on, cv2.cv.CV_HOUGH_GRADIENT, 1, 50, param1=30, param2=10,minRadius=3, maxRadius=30)\n",
    "print(circles_yellow_on)\n",
    "circles_green_on = cv2.HoughCircles(mask_green_on, cv2.cv.CV_HOUGH_GRADIENT, 1, 50, param1=30, param2=10,minRadius=3, maxRadius=30)\n",
    "print(circles_green_on)\n",
    "circles_red_all = cv2.HoughCircles(mask_red_all, cv2.cv.CV_HOUGH_GRADIENT, 1, 50, param1=30, param2=10,minRadius=3, maxRadius=30)\n",
    "print(circles_red_all)\n",
    "circles_yellow_all = cv2.HoughCircles(mask_yellow_all, cv2.cv.CV_HOUGH_GRADIENT, 1, 50, param1=30, param2=10,minRadius=3, maxRadius=30)\n",
    "print(circles_yellow_all)\n",
    "circles_green_all = cv2.HoughCircles(mask_green_all, cv2.cv.CV_HOUGH_GRADIENT, 1, 50, param1=30, param2=10,minRadius=3, maxRadius=30)\n",
    "print(circles_green_all)"
   ]
  },
  {
   "cell_type": "code",
   "execution_count": 18,
   "metadata": {},
   "outputs": [
    {
     "data": {
      "text/plain": [
       "(None, None, None)"
      ]
     },
     "execution_count": 18,
     "metadata": {},
     "output_type": "execute_result"
    }
   ],
   "source": [
    "#determine if it is a traffic light\n",
    "center_x = None\n",
    "center_y = None\n",
    "center_r = None\n",
    "\n",
    "if (circles_red_all is not None) & (circles_yellow_all is not None) & (circles_green_all is not None) :\n",
    "    circles_red = np.round(circles_red_all[0, :]).astype(\"int\")\n",
    "    circles_yellow = np.round(circles_yellow_all[0, :]).astype(\"int\")\n",
    "    circles_green = np.round(circles_green_all[0, :]).astype(\"int\")\n",
    "    for (rd_x, rd_y, rd_r) in circles_red:\n",
    "        for(yl_x, yl_y, yl_r) in circles_yellow:\n",
    "            for(gr_x, gr_y, gr_r) in circles_green:\n",
    "                #if (yl_x - 5 <= rd_x <= yl_x + 5) & (gr_x - 5 <= rd_x <= gr_x + 5) & (gr_y < yl_y < rd_y) & (yl_y-gr_y -5 <=rd_y-yl_y <= yl_y-gr_y+5):\n",
    "                #if rd_x in (yl_x - 5,yl_x + 5) & rd_x in (gr_x - 5, gr_x + 5) & yl_y in (gr_y, rd_y) & rd_y-yl_y in (yl_y-gr_y -5, yl_y-gr_y+5):\n",
    "                if ((yl_x - 5 <= rd_x <= yl_x + 5) & (gr_x - 5 <= rd_x <= gr_x + 5) & (gr_y > yl_y > rd_y) & (gr_y - yl_y -10 <= yl_y - rd_y <= gr_y - yl_y + 10)) :\n",
    "                    center_x = yl_x\n",
    "                    center_y = yl_y\n",
    "                    center_r = yl_r\n",
    "\n",
    "center_x, center_y, center_r"
   ]
  },
  {
   "cell_type": "code",
   "execution_count": 10,
   "metadata": {},
   "outputs": [
    {
     "data": {
      "text/plain": [
       "((116, 340), 'red')"
      ]
     },
     "execution_count": 10,
     "metadata": {},
     "output_type": "execute_result"
    }
   ],
   "source": [
    "#determine tl state\n",
    "state = None\n",
    "\n",
    "if circles_red_on is not None:\n",
    "    circles_red_on = np.round(circles_red_on[0, :]).astype(\"int\")\n",
    "    for(x, y, r) in circles_red_on:\n",
    "        if (center_r - 5<= r <= center_r + 5):\n",
    "            state = 'red'\n",
    "\n",
    "if circles_green_on is not None:\n",
    "    circles_green_on = np.round(circles_green_on[0, :]).astype(\"int\")\n",
    "    for(x, y, r) in circles_green_on:\n",
    "        if (center_r - 5<= r <= center_r + 5):\n",
    "            state = 'green'\n",
    "            \n",
    "if circles_yellow_on  is not None:\n",
    "    circles_yellow_on = np.round(circles_yellow_on[0, :]).astype(\"int\")\n",
    "    for(x, y, r) in circles_yellow_on:\n",
    "        if (center_r - 5 <= r <= center_r + 5):\n",
    "            state = 'yellow'\n",
    "\n",
    "(center_x, center_y),state"
   ]
  },
  {
   "cell_type": "code",
   "execution_count": 45,
   "metadata": {
    "collapsed": true
   },
   "outputs": [],
   "source": [
    "if state == 'red':\n",
    "    # convert the (x, y) coordinates and radius of the circles to integers\n",
    "    #circles_red_on = np.round(circles_red_on[0, :]).astype(\"int\")\n",
    "    # loop over the (x, y) coordinates and radius of the circles\n",
    "    for (x, y, r) in circles_red_on:\n",
    "        # draw the circle in the output image, then draw a rectangle\n",
    "        # corresponding to the center of the circle\n",
    "        if (center_x - 10 <= x <= center_x + 10  & center_r - 10 <= r <= center_r + 10): \n",
    "            cv2.circle(output, (x, y), r, (0, 255, 0), 4)\n",
    "            cv2.rectangle(output, (x - 5, y - 5), (x + 5, y + 5), (0, 128, 255), -1)\n",
    "\n",
    "if state == 'yellow':\n",
    "    # convert the (x, y) coordinates and radius of the circles to integers\n",
    "    #circles_yellow_on = np.round(circles_yellow_on[0, :]).astype(\"int\")\n",
    "    # loop over the (x, y) coordinates and radius of the circles\n",
    "    for (x, y, r) in circles_yellow_on:\n",
    "        # draw the circle in the output image, then draw a rectangle\n",
    "        # corresponding to the center of the circle\n",
    "        if (center_x - 10 <= x <= center_x + 10  & center_r - 10 <= r <= center_r + 10): \n",
    "            cv2.circle(output, (x, y), r, (0, 255, 0), 4)\n",
    "            cv2.rectangle(output, (x - 5, y - 5), (x + 5, y + 5), (0, 128, 255), -1)\n",
    "            \n",
    "if state == 'green':\n",
    "    # convert the (x, y) coordinates and radius of the circles to integers\n",
    "    #circles_green_on = np.round(circles_green_on[0, :]).astype(\"int\")\n",
    "    # loop over the (x, y) coordinates and radius of the circles\n",
    "    for (x, y, r) in circles_green_on:\n",
    "        # draw the circle in the output image, then draw a rectangle\n",
    "        # corresponding to the center of the circle\n",
    "        if ((center_x - 10 <= x <= center_x + 10)  & (center_r - 10 <= r <= center_r + 10)): \n",
    "            cv2.circle(output, (x, y), r, (0, 255, 0), 4)\n",
    "            cv2.rectangle(output, (x - 5, y - 5), (x + 5, y + 5), (0, 128, 255), -1)            \n",
    "    # show the output image\n",
    "    #cv2.imshow(\"output\", np.hstack([image, output]))\n",
    "    #cv2.waitKey(0)\n",
    "    \n",
    "    \n",
    "\n"
   ]
  },
  {
   "cell_type": "code",
   "execution_count": 48,
   "metadata": {},
   "outputs": [
    {
     "data": {
      "image/png": "[encoded data removed]",
      "text/plain": [
       "<matplotlib.figure.Figure at 0x7fe5e45b2890>"
      ]
     },
     "metadata": {},
     "output_type": "display_data"
    }
   ],
   "source": [
    "b,g,r = cv2.split(output)       # get b,g,r\n",
    "output_img = cv2.merge([r,g,b])     # switch it to rgb\t\n",
    "img=np.hstack([rgb_img, output_img])\n",
    "                         \n",
    "font                   = cv2.FONT_HERSHEY_SIMPLEX\n",
    "bottomLeftCornerOfText = (center_x + 30,center_y)\n",
    "fontScale              = 1\n",
    "fontColor              = (0,200,200)\n",
    "lineType               = 2\n",
    " \n",
    "cv2.putText(output_img,('(%s, %s), %s'%(center_x, center_y, state)), \n",
    "    bottomLeftCornerOfText, \n",
    "    font, \n",
    "    fontScale,\n",
    "    fontColor,\n",
    "    lineType)\n",
    "\n",
    "plt.imshow(output_img)\n",
    "plt.show()"
   ]
  },
  {
   "cell_type": "code",
   "execution_count": null,
   "metadata": {
    "collapsed": true
   },
   "outputs": [],
   "source": []
  }
 ],
 "metadata": {
  "kernelspec": {
   "display_name": "Python 2",
   "language": "python",
   "name": "python2"
  },
  "language_info": {
   "codemirror_mode": {
    "name": "ipython",
    "version": 2
   },
   "file_extension": ".py",
   "mimetype": "text/x-python",
   "name": "python",
   "nbconvert_exporter": "python",
   "pygments_lexer": "ipython2",
   "version": "2.7.11"
  }
 },
 "nbformat": 4,
 "nbformat_minor": 2
}
