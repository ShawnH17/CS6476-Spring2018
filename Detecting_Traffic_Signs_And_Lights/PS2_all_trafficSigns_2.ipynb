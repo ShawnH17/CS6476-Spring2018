{
 "cells": [
  {
   "cell_type": "code",
   "execution_count": 4,
   "metadata": {
    "collapsed": true
   },
   "outputs": [],
   "source": [
    "import numpy as np\n",
    "import cv2\n",
    "import matplotlib.pyplot as plt\n",
    "import matplotlib.image as mpimg\n",
    "import math"
   ]
  },
  {
   "cell_type": "code",
   "execution_count": 5,
   "metadata": {},
   "outputs": [],
   "source": [
    "image = cv2.imread('/home/shawn/OMSCS6476/ps02-master/input_images/scene_all_signs.png')\n",
    "output = image.copy()\n",
    "image1 = image.copy()\n",
    "image2 = image.copy()\n",
    "gray = cv2.cvtColor(image, cv2.COLOR_BGR2GRAY)\n",
    "\n",
    "#b,g,r = cv2.split(image)       # get b,g,r\n",
    "#rgb_img = cv2.merge([r,g,b])     # switch it to rgb"
   ]
  },
  {
   "cell_type": "code",
   "execution_count": 6,
   "metadata": {
    "collapsed": true
   },
   "outputs": [],
   "source": [
    "def get_lines(lines_in):\n",
    "    if cv2.__version__ < '3.0':\n",
    "        return lines_in[0]\n",
    "    return [l[0] for l in lines_in]"
   ]
  },
  {
   "cell_type": "code",
   "execution_count": 7,
   "metadata": {
    "collapsed": true
   },
   "outputs": [],
   "source": [
    "def lineMagnitude (x1, y1, x2, y2):\n",
    "    lineMagnitude = math.sqrt(math.pow((x2 - x1), 2)+ math.pow((y2 - y1), 2))\n",
    "    return lineMagnitude"
   ]
  },
  {
   "cell_type": "code",
   "execution_count": 8,
   "metadata": {
    "collapsed": true
   },
   "outputs": [],
   "source": [
    "def DistancePointLine(px, py, x1, y1, x2, y2):\n",
    "    ix = lineMagnitude(px, py, x1, y1)\n",
    "    iy = lineMagnitude(px, py, x2, y2)\n",
    "    return min(ix, iy)"
   ]
  },
  {
   "cell_type": "code",
   "execution_count": 9,
   "metadata": {
    "collapsed": true
   },
   "outputs": [],
   "source": [
    "def get_distance(line1, line2):\n",
    "    dist1 = DistancePointLine(line1[0][0], line1[0][1], \n",
    "                              line2[0][0], line2[0][1], line2[1][0], line2[1][1])\n",
    "    dist2 = DistancePointLine(line1[1][0], line1[1][1], \n",
    "                              line2[0][0], line2[0][1], line2[1][0], line2[1][1])\n",
    "    dist3 = DistancePointLine(line2[0][0], line2[0][1], \n",
    "                              line1[0][0], line1[0][1], line1[1][0], line1[1][1])\n",
    "    dist4 = DistancePointLine(line2[1][0], line2[1][1], \n",
    "                              line1[0][0], line1[0][1], line1[1][0], line1[1][1])\n",
    "\n",
    "\n",
    "    return min(dist1,dist2,dist3,dist4)"
   ]
  },
  {
   "cell_type": "code",
   "execution_count": 10,
   "metadata": {
    "collapsed": true
   },
   "outputs": [],
   "source": [
    "def group_lines(lines):\n",
    "    super_lines = []\n",
    "    min_distance_to_merge = 20\n",
    "    lines = sorted(lines, key= lambda _line:_line[0][0])\n",
    "    \n",
    "    for idx1, line in enumerate(lines):\n",
    "        create_new_group = True\n",
    "        group_updated = False\n",
    "\n",
    "        for group in super_lines:\n",
    "            for line3 in group:\n",
    "                if (1 <= get_distance(line3, line) and get_distance(line3, line) <= min_distance_to_merge):\n",
    "                    group.append(line)\n",
    "                    create_new_group = False\n",
    "                    group_updated = True\n",
    "                    break\n",
    "            if group_updated:\n",
    "                break\n",
    "        \n",
    "        #create new group is lines are not close enough\n",
    "        if (create_new_group):\n",
    "            new_group = []\n",
    "            new_group.append(line)\n",
    "            for idx2, line2 in enumerate(lines):\n",
    "                # check the distance between lines\n",
    "                if (1 <= get_distance(line2, line) <= min_distance_to_merge):\n",
    "                    new_group.append(line2)\n",
    "            # append new group\n",
    "            super_lines.append(new_group)\n",
    "\n",
    "    return super_lines"
   ]
  },
  {
   "cell_type": "code",
   "execution_count": 11,
   "metadata": {},
   "outputs": [
    {
     "data": {
      "image/png": "[encoded data removed]",
      "text/plain": [
       "<matplotlib.figure.Figure at 0x7fd37dedc4d0>"
      ]
     },
     "metadata": {},
     "output_type": "display_data"
    }
   ],
   "source": [
    "hsv_img = cv2.cvtColor(image1, cv2.COLOR_BGR2HSV)\n",
    "#lower mask\n",
    "lower_orange_on = np.array([10,50,50])\n",
    "upper_orange_on = np.array([20,255,255])\n",
    "mask_orange_on = cv2.inRange(hsv_img, lower_orange_on, upper_orange_on)\n",
    "\n",
    "mask_orange_on  = cv2.bitwise_and(image1,image1, mask= mask_orange_on )\n",
    "mask_orange_on  = cv2.cvtColor(mask_orange_on , cv2.COLOR_BGR2GRAY)\n",
    "cv2.imwrite('mask_orange_on.png', mask_orange_on)\n",
    "\n",
    "plt.imshow(mask_orange_on )\n",
    "plt.show()"
   ]
  },
  {
   "cell_type": "code",
   "execution_count": 13,
   "metadata": {},
   "outputs": [
    {
     "data": {
      "image/png": "[encoded data removed]",
      "text/plain": [
       "<matplotlib.figure.Figure at 0x7fd39e7e7150>"
      ]
     },
     "metadata": {},
     "output_type": "display_data"
    }
   ],
   "source": [
    "#blur=((3,3),1)\n",
    "#erode_=(5,5)\n",
    "#dilate_=(5, 5)\n",
    "\n",
    "\n",
    "#kernel = np.ones((5,5), np.float32)/15\n",
    "kernel = np.ones((7,7),np.uint8)\n",
    "#gray = cv2.dilate(cv2.erode(cv2.GaussianBlur(mask_red_on/50,blur[0],blur[1]),np.ones(erode_)),np.ones(dilate_))*255\n",
    "gray = cv2.filter2D(mask_orange_on,-1,kernel)\n",
    "\n",
    "#kernel = np.ones((5,5),np.uint8)\n",
    "gray = cv2.erode(gray,kernel,iterations=1)\n",
    "\n",
    "gray = cv2.dilate(gray, np.ones((5,5)))\n",
    "\n",
    "#dst = cv2.fastNlMeansDenoisingColored(image1,None,20,50,7,21)\n",
    "#gray = cv2.cvtColor(dst, cv2.COLOR_BGR2GRAY)\n",
    "\n",
    "laplacian = cv2.Laplacian(gray,cv2.CV_64F)\n",
    "sobelx = cv2.Sobel(gray,cv2.CV_64F,1,0,ksize=5)\n",
    "sobely = cv2.Sobel(gray,cv2.CV_64F,0,1,ksize=5)\n",
    "edges = cv2.Canny(gray,50,250,apertureSize=5)\n",
    "\n",
    "cv2.imwrite('edges.png', edges)\n",
    "\n",
    "plt.imshow(edges, cmap='gray')\n",
    "plt.show()"
   ]
  },
  {
   "cell_type": "code",
   "execution_count": 15,
   "metadata": {},
   "outputs": [
    {
     "data": {
      "image/png": "[encoded data removed]",
      "text/plain": [
       "<matplotlib.figure.Figure at 0x7fd37dda3550>"
      ]
     },
     "metadata": {},
     "output_type": "display_data"
    },
    {
     "data": {
      "text/plain": [
       "(4,\n",
       " 4,\n",
       " [[653, 401, 701, 353],\n",
       "  [598, 348, 648, 298],\n",
       "  [598, 352, 647, 401],\n",
       "  [653, 298, 701, 346]])"
      ]
     },
     "execution_count": 15,
     "metadata": {},
     "output_type": "execute_result"
    }
   ],
   "source": [
    "edges = cv2.Canny(gray,50,250,apertureSize=5)\n",
    "\n",
    "plt.imshow(edges,cmap = 'gray')\n",
    "plt.show()\n",
    "\n",
    "lines = cv2.HoughLinesP(edges,0.5,np.pi/180, threshold = 20,minLineLength = 20,maxLineGap = 20)[0].tolist()\n",
    "\n",
    "#lines = cv2.HoughLinesP(edges,1,np.pi/180,275, minLineLength = 600, maxLineGap = 100)[0].tolist()\n",
    "\n",
    "\n",
    "for index1, (x1,y1,x2,y2) in enumerate(lines):\n",
    "    for index2, (x3,y3,x4,y4) in enumerate(lines):\n",
    "        if index1!=index2 and y1-20<=y3<=y1+20 and y2-20<=y4<= y2+20 and x1-20<=x3<=x1+20 and x2-20<=x4<=x2+20: # Horizontal Lines\n",
    "            del lines[index2]\n",
    "\n",
    "\"\"\"\n",
    "_lines = []\n",
    "for _line in lines:\n",
    "    _lines.append([(_line[0], _line[1]),(_line[2], _line[3])])\n",
    "\n",
    "gp_lines = group_lines(_lines)\n",
    "\n",
    "for i in range(np.shape(gp_lines)[0]):\n",
    "    for index1, line1 in enumerate(gp_lines[i]):\n",
    "        for index2, line2 in enumerate(gp_lines[i]):\n",
    "            if index1!=index2 and line1[0][0]-5<=line2[0][0]<=line1[0][0]+5 and line1[0][1]-5<=line2[0][1]<= line1[0][1]+5: # Horizontal Lines\n",
    "                del gp_lines[i][index2]\n",
    "\"\"\"\n",
    "N = np.shape(lines)[0]\n",
    "M = np.shape(lines)[1]\n",
    "#N = lines.shape[0]\n",
    "#M = lines[0].shape[0]\n",
    "N,M, lines\n",
    "\n",
    "#N, M, lines\n"
   ]
  },
  {
   "cell_type": "code",
   "execution_count": 16,
   "metadata": {},
   "outputs": [
    {
     "data": {
      "text/plain": [
       "(701, 598, 401, 298, 649, 349, 'construction')"
      ]
     },
     "execution_count": 16,
     "metadata": {},
     "output_type": "execute_result"
    }
   ],
   "source": [
    "# find center\n",
    "center_x = None\n",
    "center_y = None\n",
    "state = ''\n",
    "max_x = 0\n",
    "min_x = 1000\n",
    "max_y = 0\n",
    "min_y = 1000\n",
    "\n",
    "if (N == 4):\n",
    "    state = 'construction'\n",
    "\n",
    "for i in range(N):    \n",
    "    x1 = lines[i][0]\n",
    "    y1 = lines[i][1]    \n",
    "    x2 = lines[i][2]\n",
    "    y2 = lines[i][3]    \n",
    "    max_x = max(max_x, x1, x2)\n",
    "    max_y = max(max_y, y1, y2)\n",
    "    min_x = min(min_x, x1, x2)\n",
    "    min_y = min(min_y, y1, y2)\n",
    "\n",
    "    \n",
    "    \n",
    "    \n",
    "center_x = np.int((max_x + min_x)/2.0)\n",
    "center_y = np.int((max_y + min_y)/2.0)\n",
    "        \n",
    "max_x, min_x, max_y, min_y, center_x, center_y, state"
   ]
  },
  {
   "cell_type": "code",
   "execution_count": null,
   "metadata": {
    "collapsed": true
   },
   "outputs": [],
   "source": []
  },
  {
   "cell_type": "code",
   "execution_count": null,
   "metadata": {
    "collapsed": true
   },
   "outputs": [],
   "source": []
  },
  {
   "cell_type": "code",
   "execution_count": 787,
   "metadata": {},
   "outputs": [
    {
     "name": "stdout",
     "output_type": "stream",
     "text": [
      "[[234 334  29]]\n"
     ]
    }
   ],
   "source": [
    "circles = cv2.HoughCircles(edges, cv2.cv.CV_HOUGH_GRADIENT, 0.5, 100, param1=50, param2=20,minRadius=10, maxRadius=30)[0].tolist()\n",
    "circles = np.round(circles).astype(\"int\")\n",
    "print(circles)"
   ]
  },
  {
   "cell_type": "code",
   "execution_count": 788,
   "metadata": {},
   "outputs": [
    {
     "data": {
      "image/png": "[encoded data removed]",
      "text/plain": [
       "<matplotlib.figure.Figure at 0x7f39fa99d350>"
      ]
     },
     "metadata": {},
     "output_type": "display_data"
    }
   ],
   "source": [
    "for (x, y, r) in circles:\n",
    "    # draw the circle in the output image, then draw a rectangle\n",
    "    # corresponding to the center of the circle\n",
    "    #if ((center_x - 10 <= x <= center_x + 10)  & (center_r - 10 <= r <= center_r + 10)): \n",
    "    cv2.circle(output, (x, y), r, (0, 0, 0), 6)\n",
    "    cv2.rectangle(output, (x - 5, y - 5), (x + 5, y + 5), (0, 128, 255), -1) \n",
    "cv2.imwrite('all.png', output)\n",
    "plt.imshow(output)\n",
    "plt.show()"
   ]
  },
  {
   "cell_type": "code",
   "execution_count": 725,
   "metadata": {
    "scrolled": true
   },
   "outputs": [
    {
     "data": {
      "image/png": "[encoded data removed]",
      "text/plain": [
       "<matplotlib.figure.Figure at 0x7f39fab5af90>"
      ]
     },
     "metadata": {},
     "output_type": "display_data"
    }
   ],
   "source": [
    "for i in range(N):\n",
    "    x1 = lines[i][0]\n",
    "    y1 = lines[i][1]    \n",
    "    x2 = lines[i][2]\n",
    "    y2 = lines[i][3]    \n",
    "    cv2.line(image1,(x1,y1),(x2,y2),(10,10,20),2)\n",
    "        \n",
    "\n",
    "b,g,r = cv2.split(image1)       # get b,g,r\n",
    "img = cv2.merge([r,g,b]) \n",
    "\n",
    "cv2.imwrite('output1.png', image1)\n",
    "\n",
    "plt.imshow(img)\n",
    "plt.show()\n"
   ]
  },
  {
   "cell_type": "code",
   "execution_count": null,
   "metadata": {
    "collapsed": true
   },
   "outputs": [],
   "source": []
  },
  {
   "cell_type": "code",
   "execution_count": 797,
   "metadata": {},
   "outputs": [
    {
     "data": {
      "text/plain": [
       "{'no_entry': (234, 334), 'stop': (348, 348), 'yield': (507, 328)}"
      ]
     },
     "execution_count": 797,
     "metadata": {},
     "output_type": "execute_result"
    }
   ],
   "source": [
    "# find center\n",
    "length = np.shape(gp_lines)[0]\n",
    "center_x = None\n",
    "center_y = None\n",
    "dictionary = {}\n",
    "state = ''\n",
    "count = 0\n",
    "for i in range(length):\n",
    "    if (len(gp_lines[i]) == 6):\n",
    "        state = 'yield'\n",
    "        for index1, [[x1, y1], [x2, y2]] in enumerate(gp_lines[i]):\n",
    "            for index2, [[x3, y3], [x4, y4]] in enumerate(gp_lines[i]):\n",
    "                if(y1==y2 and y3==y4 and y1 < y3):        \n",
    "                    center_x = np.int(math.fabs(x2+x1)/2)\n",
    "                    center_y = np.int(y1 + (math.fabs(x2-x1)*math.cos(math.pi/6) - (math.fabs(x2-x1)/2)/math.cos(math.pi/6)))\n",
    "        dictionary[state]=(center_x, center_y)\n",
    "    if(len(gp_lines[i]) == 8):\n",
    "        state = 'stop'\n",
    "        max_x = 0\n",
    "        min_x = 1000\n",
    "        max_y = 0\n",
    "        min_y = 1000\n",
    "        for [[x1,y1],[x2,y2]] in gp_lines[i]:       \n",
    "            max_x = max(max_x, x1, x2)\n",
    "            max_y = max(max_y, y1, y2)\n",
    "            min_x = min(min_x, x1, x2)\n",
    "            min_y = min(min_y, y1, y2)\n",
    "        center_x = np.int((max_x + min_x)/2.0)\n",
    "        center_y = np.int((max_y + min_y)/2.0)\n",
    "        dictionary[state]=(center_x, center_y)\n",
    "\n",
    "dictionary['no_entry'] = (circles[0][0],circles[0][1])\n",
    "        \n",
    "dictionary"
   ]
  },
  {
   "cell_type": "code",
   "execution_count": 11,
   "metadata": {},
   "outputs": [
    {
     "data": {
      "text/plain": [
       "(307, 182, 'yield')"
      ]
     },
     "execution_count": 11,
     "metadata": {},
     "output_type": "execute_result"
    }
   ],
   "source": [
    "# find center\n",
    "center_x = None\n",
    "center_y = None\n",
    "state = ''\n",
    "count = 0\n",
    "\n",
    "if (M == 3 or M == 6):\n",
    "    state = 'yield'\n",
    "\n",
    "for i in range(N):\n",
    "    for j in range(M):\n",
    "        x1 = lines[i][j][0]\n",
    "        y1 = lines[i][j][1]    \n",
    "        x2 = lines[i][j][2]\n",
    "        y2 = lines[i][j][3]    \n",
    "        if  (y2 - 5 <= y1 <= y2 + 5):\n",
    "            center_x = np.int(math.fabs(x2+x1)/2)\n",
    "            center_y = np.int(y1 + (math.fabs(x2-x1)*math.cos(math.pi/6) - (math.fabs(x2-x1)/2)/math.cos(math.pi/6)))\n",
    "\n",
    "center_x, center_y, state\n"
   ]
  },
  {
   "cell_type": "code",
   "execution_count": null,
   "metadata": {
    "collapsed": true
   },
   "outputs": [],
   "source": []
  },
  {
   "cell_type": "code",
   "execution_count": 12,
   "metadata": {
    "collapsed": true
   },
   "outputs": [],
   "source": [
    "cv2.rectangle(output, (center_x - 5, center_y - 5), (center_x + 5, center_y + 5), (0, 128, 255), -1)  \n"
   ]
  },
  {
   "cell_type": "code",
   "execution_count": 13,
   "metadata": {},
   "outputs": [
    {
     "data": {
      "image/png": "[encoded data removed]",
      "text/plain": [
       "<matplotlib.figure.Figure at 0x7f5e58d72c90>"
      ]
     },
     "metadata": {},
     "output_type": "display_data"
    }
   ],
   "source": [
    "                      \n",
    "font                   = cv2.FONT_HERSHEY_SIMPLEX\n",
    "bottomLeftCornerOfText = (center_x + 30,center_y)\n",
    "fontScale              = 1\n",
    "fontColor              = (0,200,200)\n",
    "lineType               = 2\n",
    " \n",
    "cv2.putText(output,('(%s, %s), %s'%(center_x, center_y, state)), \n",
    "    bottomLeftCornerOfText, \n",
    "    font, \n",
    "    fontScale,\n",
    "    fontColor,\n",
    "    lineType)\n",
    "output_img = cv2.cvtColor(output, cv2.COLOR_BGR2RGB)\n",
    "plt.imshow(output_img)\n",
    "plt.show()"
   ]
  },
  {
   "cell_type": "code",
   "execution_count": null,
   "metadata": {
    "collapsed": true
   },
   "outputs": [],
   "source": []
  },
  {
   "cell_type": "code",
   "execution_count": null,
   "metadata": {
    "collapsed": true
   },
   "outputs": [],
   "source": []
  },
  {
   "cell_type": "code",
   "execution_count": 6,
   "metadata": {
    "collapsed": true
   },
   "outputs": [],
   "source": [
    "def findGroup(lines):\n",
    "    M = lines.shape[0]\n",
    "    for i in range(M):\n",
    "        x1 = lines[i][0]\n",
    "        y1 = lines[i][1]    \n",
    "        x2 = lines[i][2]\n",
    "        y2 = lines[i][3] \n",
    "        \n"
   ]
  },
  {
   "cell_type": "code",
   "execution_count": null,
   "metadata": {
    "collapsed": true
   },
   "outputs": [],
   "source": [
    "lines = cv2.HoughLinesP(edges,1,np.pi/180,275, minLineLength = 600, maxLineGap = 100)[0].tolist()\n",
    "\n",
    "for x1,y1,x2,y2 in lines:\n",
    "    for index, (x3,y3,x4,y4) in enumerate(lines):\n",
    "\n",
    "        if y1==y2 and y3==y4: # Horizontal Lines\n",
    "            diff = abs(y1-y3)\n",
    "        elif x1==x2 and x3==x4: # Vertical Lines\n",
    "            diff = abs(x1-x3)\n",
    "        else:\n",
    "            diff = 0\n",
    "\n",
    "        if diff < 10 and diff is not 0:\n",
    "            del lines[index]\n",
    "\n",
    "gridsize = (len(lines) - 2) / 2"
   ]
  },
  {
   "cell_type": "code",
   "execution_count": null,
   "metadata": {
    "collapsed": true
   },
   "outputs": [],
   "source": []
  },
  {
   "cell_type": "code",
   "execution_count": null,
   "metadata": {
    "collapsed": true
   },
   "outputs": [],
   "source": [
    "def lines_close(line1, line2):\n",
    "    dist1 = math.hypot(line1[0][0] - line2[0][0], line1[0][1] - line2[0][1])\n",
    "    dist2 = math.hypot(line1[0][2] - line2[0][0], line1[0][3] - line2[0][1])\n",
    "    dist3 = math.hypot(line1[0][0] - line2[0][2], line1[0][1] - line2[0][3])\n",
    "    dist4 = math.hypot(line1[0][2] - line2[0][2], line1[0][3] - line2[0][3])\n",
    "\n",
    "    if (min(dist1,dist2,dist3,dist4) < 40):\n",
    "        return True\n",
    "    else:\n",
    "        return False"
   ]
  },
  {
   "cell_type": "code",
   "execution_count": null,
   "metadata": {
    "collapsed": true
   },
   "outputs": [],
   "source": []
  },
  {
   "cell_type": "code",
   "execution_count": null,
   "metadata": {
    "collapsed": true
   },
   "outputs": [],
   "source": []
  },
  {
   "cell_type": "code",
   "execution_count": 37,
   "metadata": {
    "collapsed": true
   },
   "outputs": [],
   "source": [
    "kernel = np.ones((5,5), np.float32)/25\n",
    "gray = cv2.filter2D(gray,-1,kernel)\n",
    "#image1 = cv2.filter2D(image1, -1, kernel)\n",
    "#image2 = "
   ]
  },
  {
   "cell_type": "code",
   "execution_count": 38,
   "metadata": {
    "scrolled": true
   },
   "outputs": [
    {
     "data": {
      "image/png": "[encoded data removed]",
      "text/plain": [
       "<matplotlib.figure.Figure at 0x7fe5e08b9b90>"
      ]
     },
     "metadata": {},
     "output_type": "display_data"
    }
   ],
   "source": [
    "#define the state of the traffic light\n",
    "#hsv_img = cv2.cvtColor(image, cv2.COLOR_BGR2RGB)\n",
    "hsv_img = cv2.cvtColor(image1, cv2.COLOR_BGR2HSV)\n",
    "#lower mask\n",
    "lower_red_on = np.array([0,50,150])\n",
    "upper_red_on = np.array([10,255,255])\n",
    "mask_red_on_0 = cv2.inRange(hsv_img, lower_red_on, upper_red_on)\n",
    "#upper mask\n",
    "lower_red_on = np.array([170,50,150])\n",
    "upper_red_on = np.array([180,255,255])\n",
    "mask_red_on_1 = cv2.inRange(hsv_img, lower_red_on, upper_red_on)\n",
    "mask_red_on = mask_red_on_1 + mask_red_on_0\n",
    "mask_red_on = cv2.bitwise_and(image1,image1, mask= mask_red_on)\n",
    "mask_red_on = cv2.cvtColor(mask_red_on, cv2.COLOR_BGR2GRAY)\n",
    "# define range of blue color in HSV\n",
    "lower_yellow_on = np.array([20,50,150])\n",
    "upper_yellow_on = np.array([40,255,255])\n",
    "mask_yellow_on = cv2.inRange(hsv_img, lower_yellow_on, upper_yellow_on)\n",
    "mask_yellow_on = cv2.bitwise_and(image1,image1, mask= mask_yellow_on)\n",
    "mask_yellow_on = cv2.cvtColor(mask_yellow_on, cv2.COLOR_BGR2GRAY)\n",
    "#mask_yellow_on = mask_yellow_on[:,:,2]\n",
    "# define range of blue color in HSV\n",
    "lower_green_on = np.array([50,50,150])\n",
    "upper_green_on = np.array([70,255,255])\n",
    "mask_green_on = cv2.inRange(hsv_img, lower_green_on, upper_green_on)\n",
    "mask_green_on = cv2.bitwise_and(image1,image1, mask= mask_green_on)\n",
    "mask_green_on = cv2.cvtColor(mask_green_on, cv2.COLOR_BGR2GRAY)\n",
    "#mask_green_on = mask_green_on[:,:,2]\n",
    "#cv2.imwrite('output2.jpg', mask_green)\n",
    "plt.imshow(mask_green_on)\n",
    "plt.show()"
   ]
  },
  {
   "cell_type": "code",
   "execution_count": 39,
   "metadata": {},
   "outputs": [
    {
     "data": {
      "image/png": "[encoded data removed]",
      "text/plain": [
       "<matplotlib.figure.Figure at 0x7fe5e094e410>"
      ]
     },
     "metadata": {},
     "output_type": "display_data"
    }
   ],
   "source": [
    "#Traffic light or not\n",
    "hsv_img = cv2.cvtColor(image2, cv2.COLOR_BGR2HSV)\n",
    "#lower mask\n",
    "lower_red_all = np.array([0,50,50])\n",
    "upper_red_all = np.array([10,255,255])\n",
    "mask_red_all_0 = cv2.inRange(hsv_img, lower_red_all, upper_red_all)\n",
    "#upper mask\n",
    "lower_red_all = np.array([170,50,50])\n",
    "upper_red_all = np.array([180,255,255])\n",
    "mask_red_all_1 = cv2.inRange(hsv_img, lower_red_all, upper_red_all)\n",
    "mask_red_all = mask_red_all_1 + mask_red_all_0\n",
    "mask_red_all = cv2.bitwise_and(image1,image1, mask= mask_red_all)\n",
    "mask_red_all = cv2.cvtColor(mask_red_all, cv2.COLOR_BGR2GRAY)\n",
    "# define range of yellow color in HSV\n",
    "lower_yellow_all = np.array([20,50,50])\n",
    "upper_yellow_all = np.array([40,255,255])\n",
    "mask_yellow_all = cv2.inRange(hsv_img, lower_yellow_all, upper_yellow_all)\n",
    "mask_yellow_all = cv2.bitwise_and(image1,image1, mask= mask_yellow_all)\n",
    "mask_yellow_all = cv2.cvtColor(mask_yellow_all, cv2.COLOR_BGR2GRAY)\n",
    "# define range of green color in HSV\n",
    "lower_green_all = np.array([50,50,50])\n",
    "upper_green_all = np.array([70,255,255])\n",
    "mask_green_all = cv2.inRange(hsv_img, lower_green_all, upper_green_all)\n",
    "mask_green_all = cv2.bitwise_and(image1,image1, mask= mask_green_all)\n",
    "mask_green_all = cv2.cvtColor(mask_green_all, cv2.COLOR_BGR2GRAY)\n",
    "#cv2.imwrite('output2.jpg', mask_green)\n",
    "plt.imshow(mask_red_all)\n",
    "plt.show()"
   ]
  },
  {
   "cell_type": "code",
   "execution_count": 40,
   "metadata": {
    "collapsed": true
   },
   "outputs": [],
   "source": [
    ">>> #green = np.uint8([[[0,255,0 ]]])\n",
    ">>> #hsv_green = cv2.cvtColor(green,cv2.COLOR_BGR2HSV)\n",
    ">>> #print hsv_green"
   ]
  },
  {
   "cell_type": "code",
   "execution_count": 41,
   "metadata": {
    "collapsed": true
   },
   "outputs": [],
   "source": [
    "#target color to HSV\n",
    "#yellow_color=np.uint8([[[255,255,0]]])\n",
    "#yellow_color_hsv = cv2.cvtColor(yellow_color, cv2.COLOR_BGR2HSV)\n",
    "#plt.imshow(yellow_color_hsv)\n",
    "#plt.show()"
   ]
  },
  {
   "cell_type": "code",
   "execution_count": 42,
   "metadata": {},
   "outputs": [
    {
     "name": "stdout",
     "output_type": "stream",
     "text": [
      "None\n",
      "None\n",
      "[[[ 133.5         192.5          27.32215309]]]\n",
      "[[[ 133.5          42.5          27.32215309]]]\n",
      "[[[ 133.5         117.5          27.32215309]]]\n",
      "[[[ 133.5         192.5          27.32215309]]]\n"
     ]
    }
   ],
   "source": [
    "# find circles\n",
    "circles_red_on = cv2.HoughCircles(mask_red_on, cv2.cv.CV_HOUGH_GRADIENT, 1, 50, param1=30, param2=10,minRadius=3, maxRadius=30)\n",
    "print(circles_red_on)\n",
    "circles_yellow_on = cv2.HoughCircles(mask_yellow_on, cv2.cv.CV_HOUGH_GRADIENT, 1, 50, param1=30, param2=10,minRadius=3, maxRadius=30)\n",
    "print(circles_yellow_on)\n",
    "circles_green_on = cv2.HoughCircles(mask_green_on, cv2.cv.CV_HOUGH_GRADIENT, 1, 50, param1=30, param2=10,minRadius=3, maxRadius=30)\n",
    "print(circles_green_on)\n",
    "circles_red_all = cv2.HoughCircles(mask_red_all, cv2.cv.CV_HOUGH_GRADIENT, 1, 50, param1=30, param2=10,minRadius=3, maxRadius=30)\n",
    "print(circles_red_all)\n",
    "circles_yellow_all = cv2.HoughCircles(mask_yellow_all, cv2.cv.CV_HOUGH_GRADIENT, 1, 50, param1=30, param2=10,minRadius=3, maxRadius=30)\n",
    "print(circles_yellow_all)\n",
    "circles_green_all = cv2.HoughCircles(mask_green_all, cv2.cv.CV_HOUGH_GRADIENT, 1, 50, param1=30, param2=10,minRadius=3, maxRadius=30)\n",
    "print(circles_green_all)"
   ]
  },
  {
   "cell_type": "code",
   "execution_count": 43,
   "metadata": {},
   "outputs": [
    {
     "data": {
      "text/plain": [
       "(134, 118, 27)"
      ]
     },
     "execution_count": 43,
     "metadata": {},
     "output_type": "execute_result"
    }
   ],
   "source": [
    "#determine if it is a traffic light\n",
    "center_x = None\n",
    "center_y = None\n",
    "center_r = None\n",
    "\n",
    "if (circles_red_all is not None) & (circles_yellow_all is not None) & (circles_green_all is not None) :\n",
    "    circles_red = np.round(circles_red_all[0, :]).astype(\"int\")\n",
    "    circles_yellow = np.round(circles_yellow_all[0, :]).astype(\"int\")\n",
    "    circles_green = np.round(circles_green_all[0, :]).astype(\"int\")\n",
    "    for (rd_x, rd_y, rd_r) in circles_red:\n",
    "        for(yl_x, yl_y, yl_r) in circles_yellow:\n",
    "            for(gr_x, gr_y, gr_r) in circles_green:\n",
    "                #if (yl_x - 5 <= rd_x <= yl_x + 5) & (gr_x - 5 <= rd_x <= gr_x + 5) & (gr_y < yl_y < rd_y) & (yl_y-gr_y -5 <=rd_y-yl_y <= yl_y-gr_y+5):\n",
    "                #if rd_x in (yl_x - 5,yl_x + 5) & rd_x in (gr_x - 5, gr_x + 5) & yl_y in (gr_y, rd_y) & rd_y-yl_y in (yl_y-gr_y -5, yl_y-gr_y+5):\n",
    "                if ((yl_x - 5 <= rd_x <= yl_x + 5) & (gr_x - 5 <= rd_x <= gr_x + 5) & (gr_y > yl_y > rd_y) & (gr_y - yl_y -10 <= yl_y - rd_y <= gr_y - yl_y + 10)) :\n",
    "                    center_x = yl_x\n",
    "                    center_y = yl_y\n",
    "                    center_r = yl_r\n",
    "\n",
    "center_x, center_y, center_r"
   ]
  },
  {
   "cell_type": "code",
   "execution_count": 44,
   "metadata": {},
   "outputs": [
    {
     "name": "stdout",
     "output_type": "stream",
     "text": [
      "[[134 192  27]]\n"
     ]
    }
   ],
   "source": [
    "#determine tl state\n",
    "state = None\n",
    "\n",
    "if circles_red_on is not None:\n",
    "    circles_red_on = np.round(circles_red_on[0, :]).astype(\"int\")\n",
    "    for(x, y, r) in circles_red_on:\n",
    "        if (center_r - 5<= r <= center_r + 5):\n",
    "            state = 'red'\n",
    "\n",
    "if circles_green_on is not None:\n",
    "    circles_green_on = np.round(circles_green_on[0, :]).astype(\"int\")\n",
    "    for(x, y, r) in circles_green_on:\n",
    "        if (center_r - 5<= r <= center_r + 5):\n",
    "            state = 'green'\n",
    "            \n",
    "if circles_yellow_on  is not None:\n",
    "    circles_yellow_on = np.round(circles_yellow_on[0, :]).astype(\"int\")\n",
    "    for(x, y, r) in circles_yellow_on:\n",
    "        if (center_r - 5 <= r <= center_r + 5):\n",
    "            state = 'yellow'\n",
    "\n",
    "(center_x, center_y),state\n",
    "print(circles_green_on)"
   ]
  },
  {
   "cell_type": "code",
   "execution_count": 45,
   "metadata": {
    "collapsed": true
   },
   "outputs": [],
   "source": [
    "if state == 'red':\n",
    "    # convert the (x, y) coordinates and radius of the circles to integers\n",
    "    #circles_red_on = np.round(circles_red_on[0, :]).astype(\"int\")\n",
    "    # loop over the (x, y) coordinates and radius of the circles\n",
    "    for (x, y, r) in circles_red_on:\n",
    "        # draw the circle in the output image, then draw a rectangle\n",
    "        # corresponding to the center of the circle\n",
    "        if (center_x - 10 <= x <= center_x + 10  & center_r - 10 <= r <= center_r + 10): \n",
    "            cv2.circle(output, (x, y), r, (0, 255, 0), 4)\n",
    "            cv2.rectangle(output, (x - 5, y - 5), (x + 5, y + 5), (0, 128, 255), -1)\n",
    "\n",
    "if state == 'yellow':\n",
    "    # convert the (x, y) coordinates and radius of the circles to integers\n",
    "    #circles_yellow_on = np.round(circles_yellow_on[0, :]).astype(\"int\")\n",
    "    # loop over the (x, y) coordinates and radius of the circles\n",
    "    for (x, y, r) in circles_yellow_on:\n",
    "        # draw the circle in the output image, then draw a rectangle\n",
    "        # corresponding to the center of the circle\n",
    "        if (center_x - 10 <= x <= center_x + 10  & center_r - 10 <= r <= center_r + 10): \n",
    "            cv2.circle(output, (x, y), r, (0, 255, 0), 4)\n",
    "            cv2.rectangle(output, (x - 5, y - 5), (x + 5, y + 5), (0, 128, 255), -1)\n",
    "            \n",
    "if state == 'green':\n",
    "    # convert the (x, y) coordinates and radius of the circles to integers\n",
    "    #circles_green_on = np.round(circles_green_on[0, :]).astype(\"int\")\n",
    "    # loop over the (x, y) coordinates and radius of the circles\n",
    "    for (x, y, r) in circles_green_on:\n",
    "        # draw the circle in the output image, then draw a rectangle\n",
    "        # corresponding to the center of the circle\n",
    "        if ((center_x - 10 <= x <= center_x + 10)  & (center_r - 10 <= r <= center_r + 10)): \n",
    "            cv2.circle(output, (x, y), r, (0, 255, 0), 4)\n",
    "            cv2.rectangle(output, (x - 5, y - 5), (x + 5, y + 5), (0, 128, 255), -1)            \n",
    "    # show the output image\n",
    "    #cv2.imshow(\"output\", np.hstack([image, output]))\n",
    "    #cv2.waitKey(0)\n",
    "    \n",
    "    \n",
    "\n"
   ]
  },
  {
   "cell_type": "code",
   "execution_count": 48,
   "metadata": {},
   "outputs": [
    {
     "data": {
      "image/png": "[encoded data removed]",
      "text/plain": [
       "<matplotlib.figure.Figure at 0x7fe5e45b2890>"
      ]
     },
     "metadata": {},
     "output_type": "display_data"
    }
   ],
   "source": [
    "b,g,r = cv2.split(output)       # get b,g,r\n",
    "output_img = cv2.merge([r,g,b])     # switch it to rgb\t\n",
    "img=np.hstack([rgb_img, output_img])\n",
    "                         \n",
    "font                   = cv2.FONT_HERSHEY_SIMPLEX\n",
    "bottomLeftCornerOfText = (center_x + 30,center_y)\n",
    "fontScale              = 1\n",
    "fontColor              = (0,200,200)\n",
    "lineType               = 2\n",
    " \n",
    "cv2.putText(output_img,('(%s, %s), %s'%(center_x, center_y, state)), \n",
    "    bottomLeftCornerOfText, \n",
    "    font, \n",
    "    fontScale,\n",
    "    fontColor,\n",
    "    lineType)\n",
    "\n",
    "plt.imshow(output_img)\n",
    "plt.show()"
   ]
  },
  {
   "cell_type": "code",
   "execution_count": null,
   "metadata": {
    "collapsed": true
   },
   "outputs": [],
   "source": []
  }
 ],
 "metadata": {
  "kernelspec": {
   "display_name": "Python 2",
   "language": "python",
   "name": "python2"
  },
  "language_info": {
   "codemirror_mode": {
    "name": "ipython",
    "version": 2
   },
   "file_extension": ".py",
   "mimetype": "text/x-python",
   "name": "python",
   "nbconvert_exporter": "python",
   "pygments_lexer": "ipython2",
   "version": "2.7.11"
  }
 },
 "nbformat": 4,
 "nbformat_minor": 2
}
